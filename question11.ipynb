{
 "cells": [
  {
   "cell_type": "markdown",
   "id": "1422e753-5670-421e-b836-d7645909bf59",
   "metadata": {},
   "source": [
    "# Stephen Yee\n",
    "Notebook for assignment 7"
   ]
  },
  {
   "cell_type": "code",
   "execution_count": 1,
   "id": "5c116422-ae9e-405f-b95f-7c4bfa862fce",
   "metadata": {},
   "outputs": [
    {
     "name": "stdout",
     "output_type": "stream",
     "text": [
      "5.0\n"
     ]
    }
   ],
   "source": [
    "def compute_mean(numlist):\n",
    "    numsum = sum(numlist)\n",
    "    listmean = numsum/len(numlist)\n",
    "    print(listmean)\n",
    "\n",
    "compute_mean([2,4,6,8])"
   ]
  },
  {
   "cell_type": "markdown",
   "id": "6f9f6118-87ff-4c7b-9a6a-f1e3ccec618f",
   "metadata": {},
   "source": [
    "The `compute_mean` function:\n",
    "1. Accepts a list of numbers\n",
    "2. Finds the sum of the numbers\n",
    "3. Divides the sum by the number of items in the list\n",
    "4. Prints the result\n",
    "\n",
    "$$\n",
    "\\begin{align}\n",
    "\\bar{x} = \\frac{x_1+x_2+\\cdots+x_n}{n} = \\frac{1}{n}\\bigg({\\sum_{i=1}^n}x_i\\bigg)\n",
    "\\end{align}\n",
    "$$"
   ]
  }
 ],
 "metadata": {
  "kernelspec": {
   "display_name": "Python 3 (ipykernel)",
   "language": "python",
   "name": "python3"
  },
  "language_info": {
   "codemirror_mode": {
    "name": "ipython",
    "version": 3
   },
   "file_extension": ".py",
   "mimetype": "text/x-python",
   "name": "python",
   "nbconvert_exporter": "python",
   "pygments_lexer": "ipython3",
   "version": "3.11.4"
  }
 },
 "nbformat": 4,
 "nbformat_minor": 5
}
